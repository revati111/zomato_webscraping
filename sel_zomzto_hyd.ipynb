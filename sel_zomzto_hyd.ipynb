{
 "cells": [
  {
   "cell_type": "code",
   "execution_count": 1,
   "id": "a666202c",
   "metadata": {},
   "outputs": [],
   "source": [
    "import warnings\n",
    "#warnings.filterwarnings('ignore')\n",
    "\n",
    "# General packages                                                                                                                                                                                                                                                                                                                                                                                                                        import pandas as pd \n",
    "import numpy as np\n",
    "import pandas as pd\n",
    "import requests\n",
    "import time\n",
    "\n",
    "# regular expressions\n",
    "import re\n",
    "\n",
    "# BeautifulSoup\n",
    "from bs4 import BeautifulSoup\n",
    "\n",
    "from urllib.parse import urljoin\n",
    "\n",
    "# Selenium packages\n",
    "from selenium import webdriver\n",
    "from selenium.webdriver.common.keys import Keys\n",
    "from selenium.webdriver.support import expected_conditions as EC\n",
    "from selenium.webdriver.common.by import By\n",
    "from selenium.webdriver.support.ui import WebDriverWait\n",
    "from selenium.webdriver.common.action_chains import ActionChains\n",
    "from selenium.webdriver.chrome.service import Service as ChromeService \n",
    "from webdriver_manager.chrome import ChromeDriverManager "
   ]
  },
  {
   "cell_type": "code",
   "execution_count": 2,
   "id": "fd3e823c",
   "metadata": {},
   "outputs": [],
   "source": [
    "headers = {'user-agent': 'Mozilla/5.0 (Macintosh; Intel Mac OS X 10_15_4) AppleWebKit/537.36 (KHTML, like Gecko) Chrome/83.0.4103.61 Safari/537.36',\n",
    "    'accept': 'text/html,application/xhtml+xml,application/xml;q=0.9,image/webp,image/apng,/;q=0.8,application/signed-exchange;v=b3;q=0.9'}\n",
    "# Open tab in full screen (maximized)\n",
    "chrome_options = webdriver.ChromeOptions()\n",
    "chrome_options.add_argument(\"start-maximized\")"
   ]
  },
  {
   "cell_type": "code",
   "execution_count": 3,
   "id": "a3823c81",
   "metadata": {},
   "outputs": [],
   "source": [
    "# Instantiate Selenium Webdriver\n",
    "driver = webdriver.Chrome(options = chrome_options)\n",
    "\n",
    "# Get the main page (Top Restaurants in Mumbai on Zomato)\n",
    "driver.get(\"https://www.zomato.com/hyderabad/restaurants\")\n",
    "\n",
    "SCROLL_PAUSE_TIME = 2\n",
    "\n",
    "# Get scroll height\n",
    "last_height = driver.execute_script(\"return document.body.scrollHeight\")\n",
    "\n",
    "while True:\n",
    "    # Scroll down to bottom\n",
    "    driver.execute_script(\"window.scrollTo(0, document.body.scrollHeight);\")\n",
    "\n",
    "    # Wait to load page\n",
    "    time.sleep(SCROLL_PAUSE_TIME)\n",
    "\n",
    "    # Calculate new scroll height and compare with last scroll height\n",
    "    new_height = driver.execute_script(\"return document.body.scrollHeight\")\n",
    "    if new_height == last_height:\n",
    "        break\n",
    "    last_height = new_height\n",
    "#driver.execute_script(\"window.scrollTo(0, document.body.scrollHeight);\")\n",
    "#time.sleep(100)\n",
    "# Get page soure\n",
    "source = driver.page_source"
   ]
  },
  {
   "cell_type": "code",
   "execution_count": 4,
   "id": "f623d823",
   "metadata": {},
   "outputs": [
    {
     "name": "stdout",
     "output_type": "stream",
     "text": [
      "Restaurants in Hyderabad - Zomato\n"
     ]
    }
   ],
   "source": [
    "# Get title of  main window\n",
    "main_window_title = driver.title\n",
    "print(main_window_title)"
   ]
  },
  {
   "cell_type": "code",
   "execution_count": 5,
   "id": "5d14d35d",
   "metadata": {},
   "outputs": [],
   "source": [
    "# creating soup\n",
    "soup = BeautifulSoup(source, \"html.parser\")\n",
    "rest_divs = soup.findAll('div', class_='jumbo-tracker')"
   ]
  },
  {
   "cell_type": "code",
   "execution_count": 6,
   "id": "4306ae14",
   "metadata": {},
   "outputs": [],
   "source": [
    "# creating all the list here according to data\n",
    "urls = []\n",
    "rest_name = []\n",
    "ratings = []\n",
    "price = []\n",
    "cuisine = []\n",
    "location = []\n",
    "\n",
    "remove = [\"\\’\",\"\\'\",\"&\"]"
   ]
  },
  {
   "cell_type": "code",
   "execution_count": 7,
   "id": "884c3ab4",
   "metadata": {
    "scrolled": true
   },
   "outputs": [
    {
     "name": "stdout",
     "output_type": "stream",
     "text": [
      "1122\n",
      "1122\n"
     ]
    }
   ],
   "source": [
    "for rest in rest_divs:  \n",
    "\n",
    "    # name of the restaurant is stored in the h4 tags\n",
    "    name_tag = rest.find(\"h4\")    \n",
    "    if name_tag!= None:\n",
    "        rest_name.append(name_tag.text)\n",
    "        #print(name_tag.text)\n",
    "        rating_tag = rest.div.a.next_sibling.div.div.div.div.div.div.div.text\n",
    "        price_tag = rest.div.a.next_sibling.p.next_sibling.text\n",
    "        cuisine_tag = rest.div.a.next_sibling.p.text\n",
    "        ratings.append(rating_tag)\n",
    "        price.append(price_tag)\n",
    "        cuisine.append(cuisine_tag)\n",
    "        \n",
    "        # links of the restaurants from <a> tags, getting href where links are stored\n",
    "        link_tag = rest.find(\"a\")\n",
    "        if link_tag!=None:\n",
    "            # since we don not get whole link https attached we need to join the link with base\n",
    "            base = \"https://www.zomato.com\"  \n",
    "            try:\n",
    "                if 'href' in link_tag.attrs:\n",
    "                    link = link_tag.get('href')\n",
    "            except:\n",
    "                pass             \n",
    "            url = urljoin(base, link)\n",
    "            urls.append(url)\n",
    "            #getting location of the restaurant\n",
    "            name_text = ''.join(x for x in name_tag.text if x.isalnum()).lower()\n",
    "            link_li = link.split('/')\n",
    "            loc = link_li[2].replace('-','').replace(name_text,'')\n",
    "            b = re.findall(r'\\d+', loc)\n",
    "            if len(b)!=0:\n",
    "                location.append(loc.replace(b[0],''))\n",
    "            else:\n",
    "                location.append(loc)\n",
    "            #print(name_text.lower(),'====',loc)    \n",
    "print(len(rest_name))\n",
    "print(len(location))"
   ]
  },
  {
   "cell_type": "code",
   "execution_count": 8,
   "id": "edc1e266",
   "metadata": {},
   "outputs": [],
   "source": [
    "zomato_df = pd.DataFrame({'links': urls, 'names': rest_name, 'ratings': ratings, 'price for one': price, 'cuisine': cuisine, 'location': location})"
   ]
  },
  {
   "cell_type": "code",
   "execution_count": 9,
   "id": "2a39a2e6",
   "metadata": {},
   "outputs": [],
   "source": [
    "zomato_df.to_csv(\"Hyderabad_restaurants_Main.csv\")\n",
    "#  creating csv for information\n",
    "#driver.close()"
   ]
  }
 ],
 "metadata": {
  "kernelspec": {
   "display_name": "Python 3 (ipykernel)",
   "language": "python",
   "name": "python3"
  },
  "language_info": {
   "codemirror_mode": {
    "name": "ipython",
    "version": 3
   },
   "file_extension": ".py",
   "mimetype": "text/x-python",
   "name": "python",
   "nbconvert_exporter": "python",
   "pygments_lexer": "ipython3",
   "version": "3.10.9"
  }
 },
 "nbformat": 4,
 "nbformat_minor": 5
}
