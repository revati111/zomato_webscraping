{
 "cells": [
  {
   "cell_type": "code",
   "execution_count": 1,
   "id": "5c5db739",
   "metadata": {},
   "outputs": [],
   "source": [
    "# load the required libraries\n",
    "\n",
    "import warnings\n",
    "warnings.filterwarnings('ignore')\n",
    "\n",
    "import numpy as np\n",
    "import pandas as pd\n",
    "import matplotlib.pyplot as plt\n",
    "import seaborn as sns\n",
    "import json\n",
    "\n",
    "import requests\n",
    "from bs4 import BeautifulSoup\n",
    "\n",
    "# import urllib library\n",
    "from urllib.request import urlopen\n",
    "\n",
    "import re\n",
    "import time\n",
    "\n",
    "from IPython.core.interactiveshell import InteractiveShell\n",
    "InteractiveShell.ast_node_interactivity = 'all'"
   ]
  },
  {
   "cell_type": "code",
   "execution_count": 4,
   "id": "bc2dfe26",
   "metadata": {},
   "outputs": [],
   "source": [
    "#Used headers/agent because the request was timed out and asking for an agent. \n",
    "#Using following code we can fake the agent.\n",
    "headers = {'User-Agent':'Mozilla/5.0 (Macintosh; Intel Mac OS X 10_11_2) AppleWebKit/601.3.9 (KHTML, like Gecko) Version/9.0.2 Safari/601.3.9'}\n",
    "url = \"https://www.zomato.com/hyderabad/restaurants\"\n",
    "response = requests.get(url,headers=headers)\n",
    "content = response.content\n",
    "soup = BeautifulSoup(content,\"html.parser\")\n",
    "#soup = BeautifulSoup(content,\"lxml\")\n",
    "#print(soup.prettify())"
   ]
  },
  {
   "cell_type": "code",
   "execution_count": 5,
   "id": "b17f48cf",
   "metadata": {
    "scrolled": true
   },
   "outputs": [],
   "source": [
    "top_rest = soup.find_all(\"div\",attrs={\"class\": \"jumbo-tracker\"})\n",
    "#list_tr = top_rest[0].find_all(\"div\",attrs={\"class\": \"col-s-8 col-l-1by3\"})\n",
    "for rest in top_rest:\n",
    "    rest_name = rest.find_all(\"h4\")         \n",
    "    rating = rest.find_all(\"div\")    \n",
    "    if len(rest_name)!=0:\n",
    "        print(rest_name[0].text)\n",
    "        print(rating[0].text)"
   ]
  },
  {
   "cell_type": "code",
   "execution_count": null,
   "id": "1034694e",
   "metadata": {},
   "outputs": [],
   "source": []
  },
  {
   "cell_type": "code",
   "execution_count": null,
   "id": "8b3ccd60",
   "metadata": {},
   "outputs": [],
   "source": []
  },
  {
   "cell_type": "code",
   "execution_count": null,
   "id": "714ea87c",
   "metadata": {},
   "outputs": [],
   "source": []
  },
  {
   "cell_type": "code",
   "execution_count": null,
   "id": "b2912f62",
   "metadata": {},
   "outputs": [],
   "source": []
  },
  {
   "cell_type": "code",
   "execution_count": null,
   "id": "7f5149c2",
   "metadata": {},
   "outputs": [],
   "source": []
  }
 ],
 "metadata": {
  "kernelspec": {
   "display_name": "Python 3 (ipykernel)",
   "language": "python",
   "name": "python3"
  },
  "language_info": {
   "codemirror_mode": {
    "name": "ipython",
    "version": 3
   },
   "file_extension": ".py",
   "mimetype": "text/x-python",
   "name": "python",
   "nbconvert_exporter": "python",
   "pygments_lexer": "ipython3",
   "version": "3.10.9"
  }
 },
 "nbformat": 4,
 "nbformat_minor": 5
}
